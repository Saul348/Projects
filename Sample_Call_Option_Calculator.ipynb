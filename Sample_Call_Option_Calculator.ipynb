{
  "cells": [
    {
      "cell_type": "markdown",
      "id": "b9ac9371",
      "metadata": {
        "id": "b9ac9371"
      },
      "source": [
        "A fundamental part of Financial Pricing models is the numeric implementation. We will implement the Binomial Asset Pricing model via two different approaches: using a semi-explicit formula with the expectation of a binomial random variable AND using Monte Carlo simulations"
      ]
    },
    {
      "cell_type": "code",
      "execution_count": null,
      "id": "d0445483",
      "metadata": {
        "id": "d0445483"
      },
      "outputs": [],
      "source": [
        "#Mathematical Finance\n",
        "\n",
        "import numpy as np\n",
        "import scipy as sp\n",
        "import math\n",
        "import scipy.stats as st\n",
        "import matplotlib.pyplot as plt\n",
        "import pandas as pd"
      ]
    },
    {
      "cell_type": "markdown",
      "id": "0240deec",
      "metadata": {
        "id": "0240deec"
      },
      "source": [
        "Simulation of Random Variables"
      ]
    },
    {
      "cell_type": "code",
      "execution_count": null,
      "id": "f31b89c8",
      "metadata": {
        "id": "f31b89c8",
        "outputId": "177ff6cf-a75a-40c3-b265-6807ee97b387"
      },
      "outputs": [
        {
          "data": {
            "image/png": "[encoded data removed]",
            "text/plain": [
              "<Figure size 432x288 with 1 Axes>"
            ]
          },
          "metadata": {
            "needs_background": "light"
          },
          "output_type": "display_data"
        }
      ],
      "source": [
        "N = 1000 #Number of simulations\n",
        "\n",
        "#Bernoulli Random Variable\n",
        "p = 0.5 #Coin toss probability of success\n",
        "B = st.bernoulli.rvs(p, size = N)\n",
        "plt.figure()\n",
        "plt.hist(B, bins = 'auto', density = True)\n",
        "plt.show()"
      ]
    },
    {
      "cell_type": "code",
      "execution_count": null,
      "id": "38a760c9",
      "metadata": {
        "id": "38a760c9",
        "outputId": "59173a21-c9ed-462e-c5aa-6e3590e540bb"
      },
      "outputs": [
        {
          "data": {
            "image/png": "[encoded data removed]",
            "text/plain": [
              "<Figure size 432x288 with 1 Axes>"
            ]
          },
          "metadata": {
            "needs_background": "light"
          },
          "output_type": "display_data"
        }
      ],
      "source": [
        "#Binomial Random Variable\n",
        "K = 10 #Number of coin tosses\n",
        "p= 0.6\n",
        "Bin = st.binom.rvs(K, p, size = N)\n",
        "plt.figure()\n",
        "plt.hist(Bin, bins = 'auto', density = True)\n",
        "plt.show()"
      ]
    },
    {
      "cell_type": "code",
      "execution_count": null,
      "id": "cb63aa1d",
      "metadata": {
        "id": "cb63aa1d",
        "outputId": "f1ab9b1f-04aa-4b38-da42-58ddad589caf"
      },
      "outputs": [
        {
          "data": {
            "image/png": "[encoded data removed]",
            "text/plain": [
              "<Figure size 432x288 with 1 Axes>"
            ]
          },
          "metadata": {
            "needs_background": "light"
          },
          "output_type": "display_data"
        }
      ],
      "source": [
        "#Poisson Random Variable\n",
        "lam = 10\n",
        "P = st.poisson.rvs(lam, size = N)\n",
        "plt.figure()\n",
        "plt.hist(P, bins = 'auto', density = True)\n",
        "plt.show()"
      ]
    },
    {
      "cell_type": "code",
      "execution_count": null,
      "id": "64d2999f",
      "metadata": {
        "id": "64d2999f",
        "outputId": "ea27814e-b40e-42ba-971b-9dbdc469fc40"
      },
      "outputs": [
        {
          "data": {
            "image/png": "[encoded data removed]",
            "text/plain": [
              "<Figure size 432x288 with 1 Axes>"
            ]
          },
          "metadata": {
            "needs_background": "light"
          },
          "output_type": "display_data"
        }
      ],
      "source": [
        "#Gaussian Random Variable\n",
        "mu = 0 #Mean\n",
        "sig = 0.25 #Standard Deviation\n",
        "\n",
        "G = st.norm.rvs(loc = mu, scale = sig, size = N)\n",
        "x = np.linspace(st.norm.ppf(0.001,loc = mu, scale = sig),st.norm.ppf(0.995,loc = mu, scale = sig), 100)\n",
        "\n",
        "plt.figure()\n",
        "plt.plot(x,st.norm.pdf(x,loc = mu, scale = sig),'k-')\n",
        "plt.hist(G, bins = 'auto', density = True,alpha=0.5)\n",
        "plt.show()"
      ]
    },
    {
      "cell_type": "markdown",
      "id": "e6815972",
      "metadata": {
        "id": "e6815972"
      },
      "source": [
        "Option Pricing in a single-period binomial model"
      ]
    },
    {
      "cell_type": "code",
      "execution_count": null,
      "id": "5a2d46e9",
      "metadata": {
        "id": "5a2d46e9"
      },
      "outputs": [],
      "source": [
        "#External parameters\n",
        "\n",
        "S0 = 100 #Initial value of the underlying asset\n",
        "r = 0.05  #Risk-free discount rate \n",
        "\n",
        "#Inputs\n",
        "\n",
        "T = 1  #Maturity time in years\n",
        "\n",
        "\n",
        "K = 95 #Strike\n",
        "\n",
        "#Computation of Up-Down probabilities\n",
        "\n",
        "u = 1.5 #Up factor    u > 1 + r\n",
        "d = 0.5 #Down factor 0 < d < 1 + r\n",
        "\n",
        "p = ((1 + r) - d)/(u - d)\n",
        "q = 1 - p"
      ]
    },
    {
      "cell_type": "code",
      "execution_count": null,
      "id": "1b33b149",
      "metadata": {
        "id": "1b33b149",
        "outputId": "d23b31a6-9e1d-4682-fc02-3001206b949d"
      },
      "outputs": [
        {
          "name": "stdout",
          "output_type": "stream",
          "text": [
            "28.80952380952381\n"
          ]
        }
      ],
      "source": [
        "#Option Pricing via expectations\n",
        "#European Call\n",
        "\n",
        "C = p*max(S0*u - K,0) + q*max(S0*d - K,0)\n",
        "C *= np.power(1 + r,-1)\n",
        "\n",
        "print(C)"
      ]
    },
    {
      "cell_type": "code",
      "execution_count": null,
      "id": "742233dc",
      "metadata": {
        "id": "742233dc",
        "outputId": "c58066ab-323c-4fba-e889-8286cba47b5e"
      },
      "outputs": [
        {
          "name": "stdout",
          "output_type": "stream",
          "text": [
            "28.799047619047617\n"
          ]
        }
      ],
      "source": [
        "#Option Pricing via Monte Carlo simulation\n",
        "#We will simulate N coin tosses, and depending on the result we will compute\n",
        "#the payoff as max(S0*u-K,0) or max(S0*d -K, 0)\n",
        "#The value of the option is the average result of the coin tosses\n",
        "\n",
        "N= 10000\n",
        "\n",
        "B = st.bernoulli.rvs(p, size = N)\n",
        "\n",
        "#Payoff = [ max(S0*(u**i)*(d**(1-i)) - K,0) for i in B ]\n",
        "Payoff = []\n",
        "\n",
        "for i in range(N):\n",
        "    if B[i] == 1:\n",
        "        P = max(S0*u - K,0)\n",
        "    else:\n",
        "        P = max(S0*d - K, 0)\n",
        "    Payoff.append(P)\n",
        "\n",
        "C_MC = np.mean(Payoff)\n",
        "C_MC *= np.power(1 + r,-1)\n",
        "print(C_MC)"
      ]
    },
    {
      "cell_type": "code",
      "execution_count": null,
      "id": "c8b41f7d",
      "metadata": {
        "id": "c8b41f7d",
        "outputId": "e8abf1d6-6d19-49c9-db95-4f2f3f679a46"
      },
      "outputs": [
        {
          "name": "stdout",
          "output_type": "stream",
          "text": [
            "19.28571428571428\n"
          ]
        }
      ],
      "source": [
        "#Put Option\n",
        "P = p*max(K - S0*u ,0) + q*max(K -S0*d,0)\n",
        "P *= np.power(1 + r,-1)\n",
        "\n",
        "print(P)"
      ]
    },
    {
      "cell_type": "code",
      "execution_count": null,
      "id": "8df81dae",
      "metadata": {
        "id": "8df81dae",
        "outputId": "8362d5e4-8a0e-4f86-a711-da2a3d721f98"
      },
      "outputs": [
        {
          "name": "stdout",
          "output_type": "stream",
          "text": [
            "19.5\n"
          ]
        }
      ],
      "source": [
        "B = st.bernoulli.rvs(p, size = N)\n",
        "\n",
        "#Payoff = [ max(S0*(u**i)*(d**(1-i)) - K,0) for i in B ]\n",
        "Payoff = []\n",
        "\n",
        "for i in range(N):\n",
        "    if B[i] == 1:\n",
        "        P = max(K - S0*u ,0)\n",
        "    else:\n",
        "        P = max(K -S0*d , 0)\n",
        "    Payoff.append(P)\n",
        "\n",
        "P_MC = np.mean(Payoff)\n",
        "P_MC *= np.power(1 + r,-1)\n",
        "print(P_MC)"
      ]
    },
    {
      "cell_type": "markdown",
      "id": "7efb21b7",
      "metadata": {
        "id": "7efb21b7"
      },
      "source": [
        "\n",
        "We compute the value of a European Call Option using the binomial expectation formula:\n",
        "\n",
        "$$ C_0 = \\frac{1}{(1+r_{eff})^M} \\sum_{i=0}^M  { M \\choose i } p^i q^{M-i} ( S_M - K )_{+}, $$\n",
        "where $S_M = S_0 \\times u^i \\times d^{M-i}$.  \n",
        "We can compute the value of an European Put in a similar way, by substituting the payoff function $(K - S_M)_+$. "
      ]
    },
    {
      "cell_type": "code",
      "execution_count": null,
      "id": "da96db55",
      "metadata": {
        "id": "da96db55",
        "outputId": "597fb7d3-644b-4174-c839-d995194c5b08"
      },
      "outputs": [
        {
          "name": "stdout",
          "output_type": "stream",
          "text": [
            "0.012272234429039353\n"
          ]
        }
      ],
      "source": [
        "#Computing the value of a European Call Option in the K-period model\n",
        "\n",
        "#Output\n",
        "C = 0 #Call option price\n",
        "\n",
        "M = 4  #Number of periods\n",
        "\n",
        "#Dada la tasa de interés efectiva por el periodo [0,T], debemos deducir las tasas\n",
        "# efectivas para cada periodo [ k-1/N * T, k/N * T ] k=1,...,N.\n",
        "\n",
        "r_eff = np.power( 1 + r*T ,(1/M)) - 1\n",
        "\n",
        "print(r_eff)\n",
        "\n",
        "K = 95 #Strike\n",
        "\n",
        "#Parámetros internos del modelo binomial\n",
        "\n",
        "u = 1.05 #Up factor    u > 1 + r_eff\n",
        "d = 0.94 #Down factor 0 < d < 1 + r_eff\n",
        "\n",
        "#Cálculo de probabilidades Up-Down\n",
        "\n",
        "p = ((1 + r_eff) - d)/(u - d)\n",
        "q = 1 - p"
      ]
    },
    {
      "cell_type": "code",
      "execution_count": null,
      "id": "0ff651ce",
      "metadata": {
        "id": "0ff651ce",
        "outputId": "e5000434-2c85-4cd6-8266-b3b3fd3740b9"
      },
      "outputs": [
        {
          "name": "stdout",
          "output_type": "stream",
          "text": [
            "10.53340231391178\n"
          ]
        }
      ],
      "source": [
        "#Computation using the expectation formula\n",
        "\n",
        "for i in range(M+1):\n",
        "    ST = S0*(u**i)*(d**(M-i))\n",
        "    prob = st.binom.pmf(i,M,p)\n",
        "    payoff = max(ST - K,0) #Put max(K - ST,0)\n",
        "    C += prob*payoff\n",
        "\n",
        "C *= np.power(1 + r_eff,-M)\n",
        "\n",
        "print(C)"
      ]
    },
    {
      "cell_type": "code",
      "execution_count": null,
      "id": "ccea22b2",
      "metadata": {
        "id": "ccea22b2",
        "outputId": "47334ba2-cd6a-4213-9f82-334bcb781d59"
      },
      "outputs": [
        {
          "name": "stdout",
          "output_type": "stream",
          "text": [
            "10.475544935714291\n"
          ]
        }
      ],
      "source": [
        "#Computation with Monte Carlo simulation\n",
        "\n",
        "Payoff = []\n",
        "Binom = st.binom.rvs(M,p,size = N)\n",
        "\n",
        "for i in range(N):\n",
        "    ST = S0*(u**Binom[i])*(d**(M-Binom[i]))\n",
        "    Payoff.append(max(ST-K,0))\n",
        "\n",
        "C_MC = np.mean(Payoff)\n",
        "C_MC *= np.power(1 + r_eff,-M)\n",
        "\n",
        "print(C_MC)"
      ]
    },
    {
      "cell_type": "markdown",
      "id": "f9afb27e",
      "metadata": {
        "id": "f9afb27e"
      },
      "source": [
        "Pricing of a Path Dependent Options via Monte Carlo simulation\n",
        "\n",
        "Consider an Asian Call Option, whose payoff is given by\n",
        "$$ (\\overline{S}_M - K)_{+}, $$ where $\\overline{S}_M := \\frac{1}{M+1}\\sum_{j=0}^{M} S_i $ is the average of the observed asset prices on each period.\n",
        "\n",
        "It turns out to be more convenient to compute the value of the option using Monte Carlo simulation."
      ]
    },
    {
      "cell_type": "code",
      "execution_count": null,
      "id": "abe719df",
      "metadata": {
        "id": "abe719df",
        "outputId": "8a8b8f24-c522-4750-d85f-3c3dbd813037"
      },
      "outputs": [
        {
          "name": "stdout",
          "output_type": "stream",
          "text": [
            "5.673295238095243\n"
          ]
        }
      ],
      "source": [
        "Payoff = []\n",
        "for i in range(N):\n",
        "    A = S0\n",
        "    for j in range(M):\n",
        "        B = st.bernoulli.rvs(p)\n",
        "        A += S0*(u**B)*(d**(1-B))\n",
        "    A *= 1/(M+1)\n",
        "    Payoff.append(max(A - K,0))\n",
        "    \n",
        "A_MC = np.mean(Payoff)\n",
        "A_MC *= np.power(1 + r_eff,-M)\n",
        "\n",
        "print(A_MC)"
      ]
    },
    {
      "cell_type": "markdown",
      "id": "f458807c",
      "metadata": {
        "id": "f458807c"
      },
      "source": [
        "Pricing of a Barrier-type Option\n",
        "\n",
        "Up & Out Call Option:\n",
        "Fix a threshold $B > 0$. If at any point in time between $[0,T]$ the stock value goes above $B$, then the option becomes worthless; otherwsie, the terminal payoff will be $(S_T - K)_{+}$. NOTE: $B > K$."
      ]
    },
    {
      "cell_type": "code",
      "execution_count": null,
      "id": "b6b684e0",
      "metadata": {
        "id": "b6b684e0",
        "outputId": "53cd91af-da40-4c46-f63b-797e40fb4286"
      },
      "outputs": [
        {
          "name": "stdout",
          "output_type": "stream",
          "text": [
            "11.89826392571428\n"
          ]
        }
      ],
      "source": [
        "Payoff = []\n",
        "\n",
        "B = 175\n",
        "\n",
        "for i in range(N):\n",
        "    A = S0\n",
        "    P = 0\n",
        "    n = 0 #Coin toss counter\n",
        "    while A <= B and n <= M:\n",
        "        H = st.bernoulli.rvs(p)\n",
        "        A *= (u**H)*(d**(1-H))\n",
        "        n+=1\n",
        "    if n == M+1 and A <= B:\n",
        "        P = max(A-K,0)\n",
        "    Payoff.append(P)\n",
        "        \n",
        "UO_MC =  np.mean(Payoff)\n",
        "UO_MC *= np.power(1 + r_eff,-M)\n",
        "\n",
        "\n",
        "print(UO_MC)"
      ]
    },
    {
      "cell_type": "code",
      "execution_count": null,
      "id": "ae786337",
      "metadata": {
        "id": "ae786337"
      },
      "outputs": [],
      "source": [
        "from scipy.optimize import least_squares\n",
        "def model(x, u):\n",
        "    return x[0] * (u ** 2 + x[1] * u) / (u ** 2 + x[2] * u + x[3])\n",
        "\n",
        "def fun(x, u, y):\n",
        "    return model(x, u) - y\n",
        "\n",
        "def jac(x, u, y):\n",
        "    J = np.empty((u.size, x.size))\n",
        "    den = u ** 2 + x[2] * u + x[3]\n",
        "    num = u ** 2 + x[1] * u\n",
        "    J[:, 0] = num / den\n",
        "    J[:, 1] = x[0] * u / den\n",
        "    J[:, 2] = -x[0] * num * u / den ** 2\n",
        "    J[:, 3] = -x[0] * num / den ** 2\n",
        "    return J"
      ]
    },
    {
      "cell_type": "code",
      "execution_count": null,
      "id": "7bc4765f",
      "metadata": {
        "id": "7bc4765f",
        "outputId": "2687b8af-9c7a-4029-cbc4-0b3b9c1ed2cd"
      },
      "outputs": [
        {
          "name": "stdout",
          "output_type": "stream",
          "text": [
            "`ftol` termination condition is satisfied.\n",
            "Function evaluations 131, initial cost 4.4383e+00, final cost 1.5375e-04, first-order optimality 4.52e-08.\n"
          ]
        }
      ],
      "source": [
        "u = np.array([4.0, 2.0, 1.0, 5.0e-1, 2.5e-1, 1.67e-1, 1.25e-1, 1.0e-1,\n",
        "              8.33e-2, 7.14e-2, 6.25e-2])\n",
        "y = np.array([1.957e-1, 1.947e-1, 1.735e-1, 1.6e-1, 8.44e-2, 6.27e-2,\n",
        "              4.56e-2, 3.42e-2, 3.23e-2, 2.35e-2, 2.46e-2])\n",
        "x0 = np.array([2.5, 3.9, 4.15, 3.9])\n",
        "res = least_squares(fun, x0, jac=jac, bounds=(0, 100), args=(u, y), verbose=1)"
      ]
    },
    {
      "cell_type": "code",
      "execution_count": null,
      "id": "259bbaa4",
      "metadata": {
        "id": "259bbaa4",
        "outputId": "f1567719-bb1e-4580-8525-5c65c6d55022"
      },
      "outputs": [
        {
          "data": {
            "image/png": "[encoded data removed]",
            "text/plain": [
              "<Figure size 432x288 with 1 Axes>"
            ]
          },
          "metadata": {
            "needs_background": "light"
          },
          "output_type": "display_data"
        }
      ],
      "source": [
        "u_test = np.linspace(0, 5)\n",
        "y_test = model(res.x, u_test)\n",
        "plt.plot(u, y, 'o', markersize=4, label='data')\n",
        "plt.plot(u_test, y_test, label='fitted model')\n",
        "plt.xlabel(\"u\")\n",
        "plt.ylabel(\"y\")\n",
        "plt.legend(loc='lower right')\n",
        "plt.show()"
      ]
    },
    {
      "cell_type": "markdown",
      "id": "50ce0a6e",
      "metadata": {
        "id": "50ce0a6e"
      },
      "source": [
        "Pricing of American Put Options\n",
        "\n",
        "Recall from the lectures that in American Call Options it is not optimal to exercise early, so it reduces to an European Call Option. On the other hand, for American Put Options it might be optimal to exercise early."
      ]
    },
    {
      "cell_type": "code",
      "execution_count": null,
      "id": "ffce5647",
      "metadata": {
        "id": "ffce5647",
        "outputId": "fa393963-9906-473f-bf49-951a97522288"
      },
      "outputs": [
        {
          "name": "stdout",
          "output_type": "stream",
          "text": [
            "1.155540408766351\n"
          ]
        }
      ],
      "source": [
        "#First we compute all the possible terminal values of the stock and their associated payoffs\n",
        "\n",
        "C = []\n",
        "for j in range(M+1):\n",
        "    S = S0 * (u**j) * (d**(M-j))\n",
        "    C.append(max(0,K - S))\n",
        "\n",
        "#Backward recursion through the tree\n",
        "for i in np.arange(M-1,-1,-1):\n",
        "    for j in range(i+1):\n",
        "        S = S0 * (u**j) * (d**(i-j))\n",
        "        C[j] = np.power(1 + r_eff,-1)* (p*C[j+1] + (1-p)*C[j])\n",
        "        C[j] = max(C[j], K -S)\n",
        "        \n",
        "print(C[0])\n"
      ]
    },
    {
      "cell_type": "markdown",
      "id": "5168fab1",
      "metadata": {
        "id": "5168fab1"
      },
      "source": [
        "Extracting data from Yahoo! Finance"
      ]
    },
    {
      "cell_type": "code",
      "execution_count": null,
      "id": "cf9d69dd",
      "metadata": {
        "id": "cf9d69dd"
      },
      "outputs": [],
      "source": [
        "url = \"https://finance.yahoo.com/quote/%5ERUT/options?p=%5ERUT\""
      ]
    },
    {
      "cell_type": "code",
      "execution_count": null,
      "id": "2a3d0dca",
      "metadata": {
        "id": "2a3d0dca"
      },
      "outputs": [],
      "source": [
        "#pip install beautifulsoup4"
      ]
    },
    {
      "cell_type": "code",
      "execution_count": null,
      "id": "5553bd62",
      "metadata": {
        "id": "5553bd62"
      },
      "outputs": [],
      "source": [
        "from bs4 import BeautifulSoup\n",
        "import requests\n",
        "\n",
        "headers = { \n",
        "    'User-Agent'      : 'Mozilla/5.0 (Macintosh; Intel Mac OS X 10_15_7) AppleWebKit/537.36 (KHTML, like Gecko) Chrome/102.0.0.0 Safari/537.36',\n",
        "}\n",
        "page = requests.get(url, headers = headers, timeout = 5)\n",
        "page"
      ]
    },
    {
      "cell_type": "code",
      "execution_count": null,
      "id": "4d2ca68c",
      "metadata": {
        "id": "4d2ca68c"
      },
      "outputs": [],
      "source": [
        "soup = BeautifulSoup(page.text, 'html.parser')"
      ]
    },
    {
      "cell_type": "code",
      "execution_count": null,
      "id": "d6102bd2",
      "metadata": {
        "id": "d6102bd2"
      },
      "outputs": [],
      "source": [
        "data = []\n",
        "table = soup.find('table') #find_all\n",
        "table_body = table.find('tbody')\n",
        "\n",
        "rows = table_body.find_all('tr')\n",
        "for row in rows:\n",
        "    cols = row.find_all('td')\n",
        "    cols = [ele.text.strip() for ele in cols]\n",
        "    data.append([ele for ele in cols if ele]) # Get rid of empty values"
      ]
    }
  ],
  "metadata": {
    "kernelspec": {
      "display_name": "Python 3 (ipykernel)",
      "language": "python",
      "name": "python3"
    },
    "language_info": {
      "codemirror_mode": {
        "name": "ipython",
        "version": 3
      },
      "file_extension": ".py",
      "mimetype": "text/x-python",
      "name": "python",
      "nbconvert_exporter": "python",
      "pygments_lexer": "ipython3",
      "version": "3.8.8"
    },
    "colab": {
      "provenance": []
    }
  },
  "nbformat": 4,
  "nbformat_minor": 5
}